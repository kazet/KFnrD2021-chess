{
 "cells": [
  {
   "cell_type": "code",
   "execution_count": 1,
   "metadata": {},
   "outputs": [],
   "source": [
    "import torch\n",
    "import numpy as np\n",
    "from scipy.spatial.distance import cdist, cosine\n",
    "import chess.engine\n",
    "from os import path, getcwd\n",
    "from random import randint\n",
    "\n",
    "import settings\n",
    "from model import Autoencoder\n",
    "from inference import Inference\n",
    "from board_similarity import predict_similarity\n",
    "from evaluation import model_score\n",
    "import matplotlib.pyplot as plt"
   ]
  },
  {
   "cell_type": "code",
   "execution_count": 2,
   "metadata": {},
   "outputs": [],
   "source": [
    "batch_size = 15\n",
    "n_fens_to_test = 500"
   ]
  },
  {
   "cell_type": "code",
   "execution_count": 3,
   "metadata": {},
   "outputs": [],
   "source": [
    "# Similarity functions\n",
    "model_similarity_functions = {}\n",
    "\n",
    "def nearest(matrix, target):\n",
    "    return cdist(np.array(matrix), np.atleast_2d([target]))\n",
    "def l1_loss(matrix, target):\n",
    "    return [np.sum(np.abs(np.array(m) - np.array(target))) for m in matrix]\n",
    "def cosine_dist(matrix, target):\n",
    "    return [cosine(m, target) for m in matrix]\n",
    "    \n",
    "model_similarity_functions[\"Nearest\"] = nearest\n",
    "model_similarity_functions[\"L1 loss\"] = l1_loss\n",
    "model_similarity_functions[\"Cosine dist\"] = cosine_dist"
   ]
  },
  {
   "cell_type": "code",
   "execution_count": 8,
   "metadata": {},
   "outputs": [],
   "source": [
    "# Models inference\n",
    "models_inference = {}\n",
    "\n",
    "class RandomEmbeding():\n",
    "    def predict(self,y):\n",
    "        return torch.rand(len(y),16)\n",
    "models_inference[\"Random Tensors\"] = RandomEmbeding()\n",
    "\n",
    "coder = Autoencoder(settings.BOARD_SHAPE, settings.LATENT_SIZE).to(settings.DEVICE)\n",
    "coder.load_state_dict(torch.load(\"final_model.pth\", map_location=settings.DEVICE))\n",
    "coder = coder.coder\n",
    "coder.eval()\n",
    "inf = Inference(settings.DEVICE, coder)\n",
    "\n",
    "models_inference[\"Model1\"] = inf\n",
    "\n",
    "coder2 = Autoencoder(settings.BOARD_SHAPE, settings.LATENT_SIZE).to(settings.DEVICE)\n",
    "coder2 = coder2.coder\n",
    "coder2.eval()\n",
    "inf2 = Inference(settings.DEVICE, coder2)\n",
    "\n",
    "models_inference[\"Random Model\"] = inf2\n",
    "\n"
   ]
  },
  {
   "cell_type": "code",
   "execution_count": 5,
   "metadata": {},
   "outputs": [],
   "source": [
    "# chess engine\n",
    "engine = chess.engine.SimpleEngine.popen_uci(\n",
    "        path.join(getcwd(), \"stockfish_13_win_x64\", \"stockfish_13_win_x64.exe\")\n",
    "    )"
   ]
  },
  {
   "cell_type": "code",
   "execution_count": 6,
   "metadata": {},
   "outputs": [
    {
     "name": "stdout",
     "output_type": "stream",
     "text": [
      "rnbqkbnr/pppppppp/8/8/4P3/8/PPPP1PPP/RNBQKBNR b KQkq - 0 1\n"
     ]
    }
   ],
   "source": [
    "# Get test fens\n",
    "\n",
    "fens = None\n",
    "with open(\"test_fens.pgn\", \"r\") as f:\n",
    "    read = f.read().split(\"\\n\")\n",
    "    fens = read[:min(n_fens_to_test,len(read))]\n",
    "    del read\n",
    "print(fens[0])"
   ]
  },
  {
   "cell_type": "code",
   "execution_count": 9,
   "metadata": {},
   "outputs": [
    {
     "name": "stdout",
     "output_type": "stream",
     "text": [
      "Model : Random Tensors || Function : Nearest\n",
      " Progres : 100%, End\n",
      "Model : Random Tensors || Function : L1 loss\n",
      " Progres : 100%, End\n",
      "Model : Random Tensors || Function : Cosine dist\n",
      " Progres : 100%, End\n"
     ]
    },
    {
     "data": {
      "image/png": "[encoded data removed]",
      "text/plain": [
       "<Figure size 432x288 with 1 Axes>"
      ]
     },
     "metadata": {
      "needs_background": "light"
     },
     "output_type": "display_data"
    },
    {
     "name": "stdout",
     "output_type": "stream",
     "text": [
      "Best result for Random Tensors :  8 \n",
      "\n",
      "Model : Model1 || Function : Nearest\n",
      " Progres : 100%, End\n",
      "Model : Model1 || Function : L1 loss\n",
      " Progres : 100%, End\n",
      "Model : Model1 || Function : Cosine dist\n",
      " Progres : 100%, End\n"
     ]
    },
    {
     "data": {
      "image/png": "[encoded data removed]",
      "text/plain": [
       "<Figure size 432x288 with 1 Axes>"
      ]
     },
     "metadata": {
      "needs_background": "light"
     },
     "output_type": "display_data"
    },
    {
     "name": "stdout",
     "output_type": "stream",
     "text": [
      "Best result for Model1 :  41 \n",
      "\n",
      "Model : Random Model || Function : Nearest\n",
      " Progres : 100%, End\n",
      "Model : Random Model || Function : L1 loss\n",
      " Progres : 100%, End\n",
      "Model : Random Model || Function : Cosine dist\n",
      " Progres : 100%, End\n"
     ]
    },
    {
     "data": {
      "image/png": "[encoded data removed]",
      "text/plain": [
       "<Figure size 432x288 with 1 Axes>"
      ]
     },
     "metadata": {
      "needs_background": "light"
     },
     "output_type": "display_data"
    },
    {
     "name": "stdout",
     "output_type": "stream",
     "text": [
      "Best result for Random Model :  27 \n",
      "\n"
     ]
    }
   ],
   "source": [
    "for model in models_inference:\n",
    "    results = []\n",
    "    for similarity in model_similarity_functions:\n",
    "        print(\"Model : \"+model,\"|| Function : \"+similarity)\n",
    "        results.append(int(100*model_score(models_inference[model], engine, model_similarity_functions[similarity], predict_similarity, fens.copy(), batch_size,print_progress = True)))\n",
    "    y_pos = np.arange(len(model_similarity_functions))\n",
    "    plt.bar(y_pos, results, align='center', alpha=0.5)\n",
    "    plt.xticks(y_pos, list(model_similarity_functions))\n",
    "    plt.ylabel('% of matching answers')\n",
    "    plt.title('model')\n",
    "    plt.show()\n",
    "    print(\"Best result for \"+model+\" : \", max(results),\"\\n\")\n"
   ]
  },
  {
   "cell_type": "code",
   "execution_count": null,
   "metadata": {},
   "outputs": [],
   "source": []
  }
 ],
 "metadata": {
  "kernelspec": {
   "display_name": "Python 3",
   "language": "python",
   "name": "python3"
  },
  "language_info": {
   "codemirror_mode": {
    "name": "ipython",
    "version": 3
   },
   "file_extension": ".py",
   "mimetype": "text/x-python",
   "name": "python",
   "nbconvert_exporter": "python",
   "pygments_lexer": "ipython3",
   "version": "3.8.8"
  }
 },
 "nbformat": 4,
 "nbformat_minor": 1
}
